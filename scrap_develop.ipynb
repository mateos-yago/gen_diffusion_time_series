{
 "cells": [
  {
   "cell_type": "code",
   "execution_count": 1,
   "id": "cfcf96b1-d893-4225-9bc3-eafaf0ad91d5",
   "metadata": {},
   "outputs": [],
   "source": [
    "from time_series_generator import TimeSeriesGenerator\n",
    "from time_series_ddpm_model import TimeSeriesDDPM\n",
    "import numpy as np\n",
    "from statsmodels.tsa import ar_model\n",
    "import matplotlib.pyplot as plt\n",
    "import network_architectures\n",
    "import utils\n",
    "from statsmodels.tsa.arima.model import ARIMA"
   ]
  },
  {
   "cell_type": "code",
   "execution_count": 12,
   "id": "6e652f43-3dd3-43f7-b825-d701f1ad61e4",
   "metadata": {},
   "outputs": [],
   "source": [
    "garch_data=TimeSeriesGenerator.generate_garch_11_series(500, 1000, 0.1, 0.4, 0.3, 100)"
   ]
  },
  {
   "cell_type": "code",
   "execution_count": 13,
   "id": "ce52a6fe-25ba-4316-b762-ab5341f5d81d",
   "metadata": {},
   "outputs": [],
   "source": [
    "series=garch_data.numpy()"
   ]
  },
  {
   "cell_type": "code",
   "execution_count": 46,
   "id": "4a5f7b66-a8f8-48f4-a1ce-aa067160666f",
   "metadata": {},
   "outputs": [
    {
     "data": {
      "text/plain": [
       "1000"
      ]
     },
     "execution_count": 46,
     "metadata": {},
     "output_type": "execute_result"
    }
   ],
   "source": [
    "series.shape[1]"
   ]
  },
  {
   "cell_type": "code",
   "execution_count": 49,
   "id": "124e26f2-839a-4995-ad12-0ef2f78196e3",
   "metadata": {},
   "outputs": [],
   "source": [
    "tsmodel=ARIMA(series[0], order=(1, 0, 1), trend=\"n\")"
   ]
  },
  {
   "cell_type": "code",
   "execution_count": 16,
   "id": "a2332711-3bbf-4018-bfa1-7a1805ad45be",
   "metadata": {},
   "outputs": [],
   "source": [
    "result=tsmodel.fit()"
   ]
  },
  {
   "cell_type": "code",
   "execution_count": 17,
   "id": "de08dedc-0786-43f0-9ea1-45737c905921",
   "metadata": {
    "scrolled": true
   },
   "outputs": [
    {
     "data": {
      "text/html": [
       "<table class=\"simpletable\">\n",
       "<caption>SARIMAX Results</caption>\n",
       "<tr>\n",
       "  <th>Dep. Variable:</th>           <td>y</td>        <th>  No. Observations:  </th>   <td>1000</td>  \n",
       "</tr>\n",
       "<tr>\n",
       "  <th>Model:</th>            <td>ARIMA(1, 0, 1)</td>  <th>  Log Likelihood     </th> <td>-789.150</td>\n",
       "</tr>\n",
       "<tr>\n",
       "  <th>Date:</th>            <td>Mon, 07 Apr 2025</td> <th>  AIC                </th> <td>1584.300</td>\n",
       "</tr>\n",
       "<tr>\n",
       "  <th>Time:</th>                <td>00:00:22</td>     <th>  BIC                </th> <td>1599.023</td>\n",
       "</tr>\n",
       "<tr>\n",
       "  <th>Sample:</th>                  <td>0</td>        <th>  HQIC               </th> <td>1589.896</td>\n",
       "</tr>\n",
       "<tr>\n",
       "  <th></th>                      <td> - 1000</td>     <th>                     </th>     <td> </td>   \n",
       "</tr>\n",
       "<tr>\n",
       "  <th>Covariance Type:</th>        <td>opg</td>       <th>                     </th>     <td> </td>   \n",
       "</tr>\n",
       "</table>\n",
       "<table class=\"simpletable\">\n",
       "<tr>\n",
       "     <td></td>       <th>coef</th>     <th>std err</th>      <th>z</th>      <th>P>|z|</th>  <th>[0.025</th>    <th>0.975]</th>  \n",
       "</tr>\n",
       "<tr>\n",
       "  <th>ar.L1</th>  <td>   -0.1081</td> <td>    0.337</td> <td>   -0.321</td> <td> 0.748</td> <td>   -0.768</td> <td>    0.552</td>\n",
       "</tr>\n",
       "<tr>\n",
       "  <th>ma.L1</th>  <td>    0.1873</td> <td>    0.333</td> <td>    0.562</td> <td> 0.574</td> <td>   -0.466</td> <td>    0.841</td>\n",
       "</tr>\n",
       "<tr>\n",
       "  <th>sigma2</th> <td>    0.2838</td> <td>    0.011</td> <td>   26.277</td> <td> 0.000</td> <td>    0.263</td> <td>    0.305</td>\n",
       "</tr>\n",
       "</table>\n",
       "<table class=\"simpletable\">\n",
       "<tr>\n",
       "  <th>Ljung-Box (L1) (Q):</th>     <td>0.01</td> <th>  Jarque-Bera (JB):  </th> <td>37.45</td>\n",
       "</tr>\n",
       "<tr>\n",
       "  <th>Prob(Q):</th>                <td>0.94</td> <th>  Prob(JB):          </th> <td>0.00</td> \n",
       "</tr>\n",
       "<tr>\n",
       "  <th>Heteroskedasticity (H):</th> <td>0.96</td> <th>  Skew:              </th> <td>0.11</td> \n",
       "</tr>\n",
       "<tr>\n",
       "  <th>Prob(H) (two-sided):</th>    <td>0.73</td> <th>  Kurtosis:          </th> <td>3.92</td> \n",
       "</tr>\n",
       "</table><br/><br/>Warnings:<br/>[1] Covariance matrix calculated using the outer product of gradients (complex-step)."
      ],
      "text/latex": [
       "\\begin{center}\n",
       "\\begin{tabular}{lclc}\n",
       "\\toprule\n",
       "\\textbf{Dep. Variable:}          &        y         & \\textbf{  No. Observations:  } &    1000     \\\\\n",
       "\\textbf{Model:}                  &  ARIMA(1, 0, 1)  & \\textbf{  Log Likelihood     } &  -789.150   \\\\\n",
       "\\textbf{Date:}                   & Mon, 07 Apr 2025 & \\textbf{  AIC                } &  1584.300   \\\\\n",
       "\\textbf{Time:}                   &     00:00:22     & \\textbf{  BIC                } &  1599.023   \\\\\n",
       "\\textbf{Sample:}                 &        0         & \\textbf{  HQIC               } &  1589.896   \\\\\n",
       "\\textbf{}                        &      - 1000      & \\textbf{                     } &             \\\\\n",
       "\\textbf{Covariance Type:}        &       opg        & \\textbf{                     } &             \\\\\n",
       "\\bottomrule\n",
       "\\end{tabular}\n",
       "\\begin{tabular}{lcccccc}\n",
       "                & \\textbf{coef} & \\textbf{std err} & \\textbf{z} & \\textbf{P$> |$z$|$} & \\textbf{[0.025} & \\textbf{0.975]}  \\\\\n",
       "\\midrule\n",
       "\\textbf{ar.L1}  &      -0.1081  &        0.337     &    -0.321  &         0.748        &       -0.768    &        0.552     \\\\\n",
       "\\textbf{ma.L1}  &       0.1873  &        0.333     &     0.562  &         0.574        &       -0.466    &        0.841     \\\\\n",
       "\\textbf{sigma2} &       0.2838  &        0.011     &    26.277  &         0.000        &        0.263    &        0.305     \\\\\n",
       "\\bottomrule\n",
       "\\end{tabular}\n",
       "\\begin{tabular}{lclc}\n",
       "\\textbf{Ljung-Box (L1) (Q):}     & 0.01 & \\textbf{  Jarque-Bera (JB):  } & 37.45  \\\\\n",
       "\\textbf{Prob(Q):}                & 0.94 & \\textbf{  Prob(JB):          } &  0.00  \\\\\n",
       "\\textbf{Heteroskedasticity (H):} & 0.96 & \\textbf{  Skew:              } &  0.11  \\\\\n",
       "\\textbf{Prob(H) (two-sided):}    & 0.73 & \\textbf{  Kurtosis:          } &  3.92  \\\\\n",
       "\\bottomrule\n",
       "\\end{tabular}\n",
       "%\\caption{SARIMAX Results}\n",
       "\\end{center}\n",
       "\n",
       "Warnings: \\newline\n",
       " [1] Covariance matrix calculated using the outer product of gradients (complex-step)."
      ],
      "text/plain": [
       "<class 'statsmodels.iolib.summary.Summary'>\n",
       "\"\"\"\n",
       "                               SARIMAX Results                                \n",
       "==============================================================================\n",
       "Dep. Variable:                      y   No. Observations:                 1000\n",
       "Model:                 ARIMA(1, 0, 1)   Log Likelihood                -789.150\n",
       "Date:                Mon, 07 Apr 2025   AIC                           1584.300\n",
       "Time:                        00:00:22   BIC                           1599.023\n",
       "Sample:                             0   HQIC                          1589.896\n",
       "                               - 1000                                         \n",
       "Covariance Type:                  opg                                         \n",
       "==============================================================================\n",
       "                 coef    std err          z      P>|z|      [0.025      0.975]\n",
       "------------------------------------------------------------------------------\n",
       "ar.L1         -0.1081      0.337     -0.321      0.748      -0.768       0.552\n",
       "ma.L1          0.1873      0.333      0.562      0.574      -0.466       0.841\n",
       "sigma2         0.2838      0.011     26.277      0.000       0.263       0.305\n",
       "===================================================================================\n",
       "Ljung-Box (L1) (Q):                   0.01   Jarque-Bera (JB):                37.45\n",
       "Prob(Q):                              0.94   Prob(JB):                         0.00\n",
       "Heteroskedasticity (H):               0.96   Skew:                             0.11\n",
       "Prob(H) (two-sided):                  0.73   Kurtosis:                         3.92\n",
       "===================================================================================\n",
       "\n",
       "Warnings:\n",
       "[1] Covariance matrix calculated using the outer product of gradients (complex-step).\n",
       "\"\"\""
      ]
     },
     "execution_count": 17,
     "metadata": {},
     "output_type": "execute_result"
    }
   ],
   "source": [
    "result.summary()"
   ]
  },
  {
   "cell_type": "code",
   "execution_count": 50,
   "id": "c2547e88-a067-4d2c-a21d-5e6cf4531fd5",
   "metadata": {
    "scrolled": true
   },
   "outputs": [],
   "source": [
    "params = utils.ts_kurtosis_estimation(garch_data)"
   ]
  },
  {
   "cell_type": "code",
   "execution_count": 51,
   "id": "112ab469-8f33-4a03-bd41-5565367a27f0",
   "metadata": {},
   "outputs": [
    {
     "data": {
      "image/png": "[encoded data removed]",
      "text/plain": [
       "<Figure size 640x480 with 1 Axes>"
      ]
     },
     "metadata": {},
     "output_type": "display_data"
    }
   ],
   "source": [
    "plt.hist(params, bins=100, range=(0,10), edgecolor='black')\n",
    "plt.show()"
   ]
  },
  {
   "cell_type": "code",
   "execution_count": 23,
   "id": "b43c6752-0588-4896-87d8-5008182ec4d3",
   "metadata": {},
   "outputs": [],
   "source": [
    "from network_architectures import HybridCNNLSTMNet\n",
    "custom_net = HybridCNNLSTMNet(input_dim=1, conv_channels=16, lstm_hidden_dim=32, num_lstm_layers=2)\n",
    "# Create the DDPM model using the custom network.\n",
    "ddpm_model = TimeSeriesDDPM(net=custom_net, T=1000)"
   ]
  },
  {
   "cell_type": "code",
   "execution_count": 13,
   "id": "285e4802-f7d1-41df-9716-d8dfbab21d88",
   "metadata": {},
   "outputs": [],
   "source": [
    "#from transformer_architecture import TransformerNet"
   ]
  },
  {
   "cell_type": "code",
   "execution_count": 15,
   "id": "eb6fa1b6-3ece-4655-8b7c-caf8d572b98c",
   "metadata": {},
   "outputs": [],
   "source": [
    "#custom_transformer = TransformerNet(\n",
    "#    input_dim=1,\n",
    "#    embed_dim=16,\n",
    "#    num_layers=2,\n",
    "#    nhead=4,\n",
    "#    dim_feedforward=64,\n",
    "#    dropout=0.1,\n",
    "#    use_positional_encoding=True\n",
    "#)\n",
    "\n",
    "## Instantiate the DDPM model with the transformer network.\n",
    "#ddpm_model = TimeSeriesDDPM(net=custom_transformer, T=1000)\n"
   ]
  },
  {
   "cell_type": "code",
   "execution_count": 25,
   "id": "7d94c85f-75ab-4f4d-a3ee-ccab01a3463e",
   "metadata": {
    "scrolled": true
   },
   "outputs": [
    {
     "name": "stdout",
     "output_type": "stream",
     "text": [
      "Epoch 1, Loss: 0.9515123021602631\n",
      "Epoch 2, Loss: 0.5633212447166442\n",
      "Epoch 3, Loss: 0.29239591240882873\n",
      "Epoch 4, Loss: 0.2169947935640812\n",
      "Epoch 5, Loss: 0.2024497166275978\n",
      "Epoch 6, Loss: 0.20825718581676483\n",
      "Epoch 7, Loss: 0.1921457253396511\n",
      "Epoch 8, Loss: 0.18746242847293615\n",
      "Epoch 9, Loss: 0.18709633618593216\n",
      "Epoch 10, Loss: 0.19886887706816198\n",
      "Epoch 11, Loss: 0.21538845896720887\n",
      "Epoch 12, Loss: 0.17536010393872858\n",
      "Epoch 13, Loss: 0.1789027978479862\n",
      "Epoch 14, Loss: 0.21857699126005173\n",
      "Epoch 15, Loss: 0.20356049805879592\n",
      "Epoch 16, Loss: 0.18936425484716893\n",
      "Epoch 17, Loss: 0.18994746681302785\n",
      "Epoch 18, Loss: 0.20137015338987113\n",
      "Epoch 19, Loss: 0.1755616979673505\n",
      "Epoch 20, Loss: 0.19322024881839753\n",
      "Epoch 21, Loss: 0.18590192295610905\n",
      "Epoch 22, Loss: 0.16971901051700114\n",
      "Epoch 23, Loss: 0.1829999715834856\n",
      "Epoch 24, Loss: 0.18598976434208453\n",
      "Epoch 25, Loss: 0.1791480863466859\n",
      "Epoch 26, Loss: 0.1776658958941698\n",
      "Epoch 27, Loss: 0.19748110704123975\n",
      "Epoch 28, Loss: 0.18959172872826457\n",
      "Epoch 29, Loss: 0.19714251454919576\n",
      "Epoch 30, Loss: 0.18190339639782904\n",
      "Epoch 31, Loss: 0.17759359713643788\n",
      "Epoch 32, Loss: 0.2130134005844593\n",
      "Epoch 33, Loss: 0.17054704494774342\n",
      "Epoch 34, Loss: 0.18960893575102092\n",
      "Epoch 35, Loss: 0.18805788032710552\n",
      "Epoch 36, Loss: 0.1719704421237111\n",
      "Epoch 37, Loss: 0.19807394007220863\n",
      "Epoch 38, Loss: 0.18623757597059012\n",
      "Epoch 39, Loss: 0.1973614783771336\n",
      "Epoch 40, Loss: 0.21814232125878333\n"
     ]
    }
   ],
   "source": [
    "ddpm_model.train_model(garch_data, num_epochs=40, plot=False)"
   ]
  },
  {
   "cell_type": "code",
   "execution_count": 52,
   "id": "e356adff-a6bc-4151-be82-706becaa4f17",
   "metadata": {},
   "outputs": [
    {
     "name": "stdout",
     "output_type": "stream",
     "text": [
      "TimeSeriesDDPM(\n",
      "  (net): HybridCNNLSTMNet(\n",
      "    (conv): Conv1d(1, 16, kernel_size=(3,), stride=(1,), padding=(1,))\n",
      "    (lstm): LSTM(17, 32, num_layers=2, batch_first=True)\n",
      "    (fc): Linear(in_features=32, out_features=1, bias=True)\n",
      "  )\n",
      ")\n"
     ]
    }
   ],
   "source": [
    "print(ddpm_model)"
   ]
  },
  {
   "cell_type": "code",
   "execution_count": 44,
   "id": "64162e36-c606-482f-8685-cafe84253804",
   "metadata": {},
   "outputs": [
    {
     "data": {
      "text/plain": [
       "torch.Size([500, 1000, 1])"
      ]
     },
     "execution_count": 44,
     "metadata": {},
     "output_type": "execute_result"
    }
   ],
   "source": [
    "garch_data.shape"
   ]
  },
  {
   "cell_type": "code",
   "execution_count": 27,
   "id": "a7c31c7c-7ed2-4176-ad08-fb0db24564e3",
   "metadata": {},
   "outputs": [],
   "source": [
    "import torch"
   ]
  },
  {
   "cell_type": "code",
   "execution_count": 31,
   "id": "72b754e3-f541-4685-8549-bdbb3e27c87b",
   "metadata": {
    "scrolled": true
   },
   "outputs": [],
   "source": [
    "device = torch.device(\"cuda\" if torch.cuda.is_available() else \"cpu\")\n",
    "generated_series=ddpm_model.sample(seq_length=50, device=device, num_samples=100)"
   ]
  },
  {
   "cell_type": "code",
   "execution_count": 53,
   "id": "3ad7dec9-0f4a-485f-ab52-058b3a74fd33",
   "metadata": {},
   "outputs": [],
   "source": [
    "simulated_params=utils.ts_kurtosis_estimation(generated_series)"
   ]
  },
  {
   "cell_type": "code",
   "execution_count": 54,
   "id": "da7277d4-4ecc-4626-b023-6f8ffdf833e0",
   "metadata": {},
   "outputs": [
    {
     "data": {
      "image/png": "[encoded data removed]",
      "text/plain": [
       "<Figure size 640x480 with 1 Axes>"
      ]
     },
     "metadata": {},
     "output_type": "display_data"
    }
   ],
   "source": [
    "plt.hist(simulated_params, bins=100, range=(0,10), edgecolor='black')\n",
    "plt.show()"
   ]
  },
  {
   "cell_type": "code",
   "execution_count": 38,
   "id": "b05f25ac-8193-46a8-adf5-f64a2d5c9ca5",
   "metadata": {},
   "outputs": [],
   "source": [
    "import os\n",
    "def build_path(*folders, file_name=None):\n",
    "    \"\"\"\n",
    "    Returns the current directory appended with any additional folder names provided,\n",
    "    and optionally appends a file name at the end.\n",
    "\n",
    "    Parameters:\n",
    "    *folders (str): A variable number of folder names to append to the current directory.\n",
    "    file_name (str, optional): The file name to append to the path.\n",
    "\n",
    "    Returns:\n",
    "    str: The resulting full path.\n",
    "    \"\"\"\n",
    "    # Start with the current directory and add any additional folders\n",
    "    path = os.path.join(os.getcwd(), *folders)\n",
    "    # If a file name is provided, append it to the path\n",
    "    if file_name:\n",
    "        path = os.path.join(path, file_name)\n",
    "    return path"
   ]
  },
  {
   "cell_type": "code",
   "execution_count": 42,
   "id": "3ad787be-771c-408a-bf0b-06b3c6de85ec",
   "metadata": {},
   "outputs": [
    {
     "data": {
      "image/png": "[encoded data removed]",
      "text/plain": [
       "<Figure size 640x480 with 1 Axes>"
      ]
     },
     "metadata": {},
     "output_type": "display_data"
    }
   ],
   "source": [
    "plt.hist(params, bins=50, alpha=0.5, label='Data 1')\n",
    "plt.hist(simulated_params, bins=50, alpha=0.5, label='Data 2')\n",
    "\n",
    "plt.legend(loc='upper right')\n",
    "plt.title(\"Overlayed Histograms using Matplotlib\")\n",
    "plt.xlabel(\"Value\")\n",
    "plt.ylabel(\"Frequency\")\n",
    "plt.savefig(build_path('output','prueba.jpg'))"
   ]
  },
  {
   "cell_type": "code",
   "execution_count": null,
   "id": "312bad0c-fe92-4ec4-8ed6-fca27fd5eb3e",
   "metadata": {},
   "outputs": [],
   "source": []
  }
 ],
 "metadata": {
  "kernelspec": {
   "display_name": "Python 3 (ipykernel)",
   "language": "python",
   "name": "python3"
  },
  "language_info": {
   "codemirror_mode": {
    "name": "ipython",
    "version": 3
   },
   "file_extension": ".py",
   "mimetype": "text/x-python",
   "name": "python",
   "nbconvert_exporter": "python",
   "pygments_lexer": "ipython3",
   "version": "3.12.9"
  }
 },
 "nbformat": 4,
 "nbformat_minor": 5
}
