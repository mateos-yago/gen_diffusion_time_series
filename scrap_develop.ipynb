{
 "cells": [
  {
   "cell_type": "code",
   "execution_count": 1,
   "id": "cfcf96b1-d893-4225-9bc3-eafaf0ad91d5",
   "metadata": {},
   "outputs": [],
   "source": [
    "from time_series_generator import TimeSeriesGenerator\n",
    "from time_series_ddpm_model import TimeSeriesDDPM\n",
    "import numpy as np\n",
    "from statsmodels.tsa import ar_model\n",
    "import matplotlib.pyplot as plt\n",
    "import torch"
   ]
  },
  {
   "cell_type": "code",
   "execution_count": 12,
   "id": "6e652f43-3dd3-43f7-b825-d701f1ad61e4",
   "metadata": {},
   "outputs": [],
   "source": [
    "data=TimeSeriesGenerator.generate_ar_series(500, 100, 1, 0.6,0.1)"
   ]
  },
  {
   "cell_type": "code",
   "execution_count": 13,
   "id": "ce52a6fe-25ba-4316-b762-ab5341f5d81d",
   "metadata": {},
   "outputs": [],
   "source": [
    "series=data.numpy()"
   ]
  },
  {
   "cell_type": "code",
   "execution_count": 14,
   "id": "4a5f7b66-a8f8-48f4-a1ce-aa067160666f",
   "metadata": {},
   "outputs": [
    {
     "data": {
      "text/plain": [
       "(500, 100, 1)"
      ]
     },
     "execution_count": 14,
     "metadata": {},
     "output_type": "execute_result"
    }
   ],
   "source": [
    "series.shape"
   ]
  },
  {
   "cell_type": "code",
   "execution_count": 15,
   "id": "124e26f2-839a-4995-ad12-0ef2f78196e3",
   "metadata": {},
   "outputs": [],
   "source": [
    "tsmodel=ar_model.AutoReg(series[0], 1, trend='n')"
   ]
  },
  {
   "cell_type": "code",
   "execution_count": 16,
   "id": "a2332711-3bbf-4018-bfa1-7a1805ad45be",
   "metadata": {},
   "outputs": [],
   "source": [
    "result=tsmodel.fit()"
   ]
  },
  {
   "cell_type": "code",
   "execution_count": 17,
   "id": "de08dedc-0786-43f0-9ea1-45737c905921",
   "metadata": {},
   "outputs": [
    {
     "data": {
      "text/html": [
       "<table class=\"simpletable\">\n",
       "<caption>AutoReg Model Results</caption>\n",
       "<tr>\n",
       "  <th>Dep. Variable:</th>         <td>y</td>        <th>  No. Observations:  </th>    <td>100</td>  \n",
       "</tr>\n",
       "<tr>\n",
       "  <th>Model:</th>            <td>AutoReg(1)</td>    <th>  Log Likelihood     </th>  <td>94.076</td> \n",
       "</tr>\n",
       "<tr>\n",
       "  <th>Method:</th>         <td>Conditional MLE</td> <th>  S.D. of innovations</th>   <td>0.094</td> \n",
       "</tr>\n",
       "<tr>\n",
       "  <th>Date:</th>          <td>Wed, 26 Mar 2025</td> <th>  AIC                </th> <td>-184.153</td>\n",
       "</tr>\n",
       "<tr>\n",
       "  <th>Time:</th>              <td>17:22:24</td>     <th>  BIC                </th> <td>-178.963</td>\n",
       "</tr>\n",
       "<tr>\n",
       "  <th>Sample:</th>                <td>1</td>        <th>  HQIC               </th> <td>-182.053</td>\n",
       "</tr>\n",
       "<tr>\n",
       "  <th></th>                      <td>100</td>       <th>                     </th>     <td> </td>   \n",
       "</tr>\n",
       "</table>\n",
       "<table class=\"simpletable\">\n",
       "<tr>\n",
       "    <td></td>      <th>coef</th>     <th>std err</th>      <th>z</th>      <th>P>|z|</th>  <th>[0.025</th>    <th>0.975]</th>  \n",
       "</tr>\n",
       "<tr>\n",
       "  <th>y.L1</th> <td>    0.6509</td> <td>    0.046</td> <td>   14.019</td> <td> 0.000</td> <td>    0.560</td> <td>    0.742</td>\n",
       "</tr>\n",
       "</table>\n",
       "<table class=\"simpletable\">\n",
       "<caption>Roots</caption>\n",
       "<tr>\n",
       "    <td></td>   <th>            Real</th>  <th>         Imaginary</th> <th>         Modulus</th>  <th>        Frequency</th>\n",
       "</tr>\n",
       "<tr>\n",
       "  <th>AR.1</th> <td>           1.5362</td> <td>          +0.0000j</td> <td>           1.5362</td> <td>           0.0000</td>\n",
       "</tr>\n",
       "</table>"
      ],
      "text/latex": [
       "\\begin{center}\n",
       "\\begin{tabular}{lclc}\n",
       "\\toprule\n",
       "\\textbf{Dep. Variable:} &             y             & \\textbf{  No. Observations:  } &            100             \\\\\n",
       "\\textbf{Model:}         &         AutoReg(1)        & \\textbf{  Log Likelihood     } &           94.076           \\\\\n",
       "\\textbf{Method:}        &      Conditional MLE      & \\textbf{  S.D. of innovations} &           0.094            \\\\\n",
       "\\textbf{Date:}          &      Wed, 26 Mar 2025     & \\textbf{  AIC                } &          -184.153          \\\\\n",
       "\\textbf{Time:}          &          17:22:24         & \\textbf{  BIC                } &          -178.963          \\\\\n",
       "\\textbf{Sample:}        &             1             & \\textbf{  HQIC               } &          -182.053          \\\\\n",
       "\\textbf{}               &            100            & \\textbf{                     } &                            \\\\\n",
       "\\bottomrule\n",
       "\\end{tabular}\n",
       "\\begin{tabular}{lcccccc}\n",
       "              & \\textbf{coef} & \\textbf{std err} & \\textbf{z} & \\textbf{P$> |$z$|$} & \\textbf{[0.025} & \\textbf{0.975]}  \\\\\n",
       "\\midrule\n",
       "\\textbf{y.L1} &       0.6509  &        0.046     &    14.019  &         0.000        &        0.560    &        0.742     \\\\\n",
       "\\bottomrule\n",
       "\\end{tabular}\n",
       "\\begin{tabular}{lcccc}\n",
       "              & \\textbf{            Real} & \\textbf{         Imaginary} & \\textbf{         Modulus} & \\textbf{        Frequency}  \\\\\n",
       "\\midrule\n",
       "\\textbf{AR.1} &                1.5362     &                +0.0000j     &                1.5362     &                0.0000       \\\\\n",
       "\\bottomrule\n",
       "\\end{tabular}\n",
       "%\\caption{AutoReg Model Results}\n",
       "\\end{center}"
      ],
      "text/plain": [
       "<class 'statsmodels.iolib.summary.Summary'>\n",
       "\"\"\"\n",
       "                            AutoReg Model Results                             \n",
       "==============================================================================\n",
       "Dep. Variable:                      y   No. Observations:                  100\n",
       "Model:                     AutoReg(1)   Log Likelihood                  94.076\n",
       "Method:               Conditional MLE   S.D. of innovations              0.094\n",
       "Date:                Wed, 26 Mar 2025   AIC                           -184.153\n",
       "Time:                        17:22:24   BIC                           -178.963\n",
       "Sample:                             1   HQIC                          -182.053\n",
       "                                  100                                         \n",
       "==============================================================================\n",
       "                 coef    std err          z      P>|z|      [0.025      0.975]\n",
       "------------------------------------------------------------------------------\n",
       "y.L1           0.6509      0.046     14.019      0.000       0.560       0.742\n",
       "                                    Roots                                    \n",
       "=============================================================================\n",
       "                  Real          Imaginary           Modulus         Frequency\n",
       "-----------------------------------------------------------------------------\n",
       "AR.1            1.5362           +0.0000j            1.5362            0.0000\n",
       "-----------------------------------------------------------------------------\n",
       "\"\"\""
      ]
     },
     "execution_count": 17,
     "metadata": {},
     "output_type": "execute_result"
    }
   ],
   "source": [
    "result.summary()"
   ]
  },
  {
   "cell_type": "code",
   "execution_count": 18,
   "id": "f5a0277e-86f9-49d9-87d3-b0e540ed3b16",
   "metadata": {},
   "outputs": [
    {
     "data": {
      "text/plain": [
       "np.float64(0.6509395516303744)"
      ]
     },
     "execution_count": 18,
     "metadata": {},
     "output_type": "execute_result"
    }
   ],
   "source": [
    "result.params[0]"
   ]
  },
  {
   "cell_type": "code",
   "execution_count": 19,
   "id": "c59b862c-ae9a-4dd0-b93a-9b19bd8cf785",
   "metadata": {},
   "outputs": [],
   "source": [
    "def phi_parameter_estimation(series):\n",
    "    \"\"\"This function takes an array of AR1 time series as an argument\n",
    "    and returns  a list of the phi1 estimated parameter for each series\"\"\"\n",
    "    params_list=[]\n",
    "    for serie in series:\n",
    "        tsmodel=ar_model.AutoReg(serie, 1, trend='n')\n",
    "        result=tsmodel.fit()\n",
    "        params_list.append(result.params[0])\n",
    "    return params_list"
   ]
  },
  {
   "cell_type": "code",
   "execution_count": 20,
   "id": "c2547e88-a067-4d2c-a21d-5e6cf4531fd5",
   "metadata": {
    "scrolled": true
   },
   "outputs": [],
   "source": [
    "params=phi_parameter_estimation(series)"
   ]
  },
  {
   "cell_type": "code",
   "execution_count": 21,
   "id": "112ab469-8f33-4a03-bd41-5565367a27f0",
   "metadata": {
    "scrolled": true
   },
   "outputs": [
    {
     "data": {
      "image/png": "[encoded data removed]",
      "text/plain": [
       "<Figure size 640x480 with 1 Axes>"
      ]
     },
     "metadata": {},
     "output_type": "display_data"
    }
   ],
   "source": [
    "plt.hist(params, bins=100, edgecolor='black')\n",
    "plt.show()"
   ]
  },
  {
   "cell_type": "code",
   "execution_count": 24,
   "id": "b43c6752-0588-4896-87d8-5008182ec4d3",
   "metadata": {},
   "outputs": [],
   "source": [
    "model=TimeSeriesDDPM(input_dim=1, use_conv=True, conv_channels=16, num_lstm_layers=2, hidden_dim=32, T=1000)"
   ]
  },
  {
   "cell_type": "code",
   "execution_count": 26,
   "id": "7d94c85f-75ab-4f4d-a3ee-ccab01a3463e",
   "metadata": {
    "scrolled": true
   },
   "outputs": [
    {
     "name": "stdout",
     "output_type": "stream",
     "text": [
      "Epoch 1, Loss: 0.07725935822352767\n",
      "Epoch 2, Loss: 0.04503431336954236\n",
      "Epoch 3, Loss: 0.04812916547060013\n",
      "Epoch 4, Loss: 0.053698075944557784\n",
      "Epoch 5, Loss: 0.054054265315644445\n",
      "Epoch 6, Loss: 0.053381046634167435\n",
      "Epoch 7, Loss: 0.059253004589118065\n",
      "Epoch 8, Loss: 0.049528434281237425\n",
      "Epoch 9, Loss: 0.051750376140698794\n",
      "Epoch 10, Loss: 0.04239289447199553\n",
      "Epoch 11, Loss: 0.05145889616571367\n",
      "Epoch 12, Loss: 0.05734841149300337\n",
      "Epoch 13, Loss: 0.055493212807923555\n",
      "Epoch 14, Loss: 0.046886184280738236\n",
      "Epoch 15, Loss: 0.05754523095674813\n",
      "Epoch 16, Loss: 0.04837466521654278\n",
      "Epoch 17, Loss: 0.05227549469098449\n",
      "Epoch 18, Loss: 0.062272545527666805\n",
      "Epoch 19, Loss: 0.05463820509146899\n",
      "Epoch 20, Loss: 0.05402212417684495\n",
      "Epoch 21, Loss: 0.06460372316651046\n",
      "Epoch 22, Loss: 0.04465761191211641\n",
      "Epoch 23, Loss: 0.06270973497536034\n",
      "Epoch 24, Loss: 0.05927220933139324\n",
      "Epoch 25, Loss: 0.042153724925592544\n",
      "Epoch 26, Loss: 0.03775656646117568\n",
      "Epoch 27, Loss: 0.04747806729748845\n",
      "Epoch 28, Loss: 0.05643677346408367\n",
      "Epoch 29, Loss: 0.05555871206335723\n",
      "Epoch 30, Loss: 0.04837253902573138\n",
      "Epoch 31, Loss: 0.053708135699853304\n",
      "Epoch 32, Loss: 0.05321726193651557\n",
      "Epoch 33, Loss: 0.037683290923014284\n",
      "Epoch 34, Loss: 0.05899591830093413\n",
      "Epoch 35, Loss: 0.05830325173214078\n",
      "Epoch 36, Loss: 0.05300188393332064\n",
      "Epoch 37, Loss: 0.04294699792284518\n",
      "Epoch 38, Loss: 0.06283473692834378\n",
      "Epoch 39, Loss: 0.046740985149517654\n",
      "Epoch 40, Loss: 0.04094894709531218\n"
     ]
    }
   ],
   "source": [
    "model.train_model(data, num_epochs=40, plot=False)"
   ]
  },
  {
   "cell_type": "code",
   "execution_count": 28,
   "id": "72b754e3-f541-4685-8549-bdbb3e27c87b",
   "metadata": {
    "scrolled": true
   },
   "outputs": [],
   "source": [
    "device = torch.device(\"cuda\" if torch.cuda.is_available() else \"cpu\")\n",
    "generated_series=model.sample(seq_length=100, device=device, num_samples=500)"
   ]
  },
  {
   "cell_type": "code",
   "execution_count": 29,
   "id": "a9f806d6-569e-4922-abf1-62e6aba58edf",
   "metadata": {
    "scrolled": true
   },
   "outputs": [
    {
     "data": {
      "text/plain": [
       "(500, 100, 1)"
      ]
     },
     "execution_count": 29,
     "metadata": {},
     "output_type": "execute_result"
    }
   ],
   "source": [
    "generated_series.shape"
   ]
  },
  {
   "cell_type": "code",
   "execution_count": 20,
   "id": "c0101be6-7b79-4356-a9e6-b45db8fb0840",
   "metadata": {},
   "outputs": [],
   "source": [
    "def phi_parameter_estimation(series):\n",
    "    \"\"\"This function takes an array of AR1 time series as an argument\n",
    "    and returns  a list of the phi1 estimated parameter for each series\"\"\"\n",
    "    params_list=[]\n",
    "    for serie in series:\n",
    "        tsmodel=ar_model.AutoReg(serie, 1, trend='n')\n",
    "        result=tsmodel.fit()\n",
    "        params_list.append(result.params[0])\n",
    "    return params_list"
   ]
  },
  {
   "cell_type": "code",
   "execution_count": 21,
   "id": "3ad7dec9-0f4a-485f-ab52-058b3a74fd33",
   "metadata": {},
   "outputs": [],
   "source": [
    "simulated_params=phi_parameter_estimation(generated_series)"
   ]
  },
  {
   "cell_type": "code",
   "execution_count": 22,
   "id": "da7277d4-4ecc-4626-b023-6f8ffdf833e0",
   "metadata": {
    "scrolled": true
   },
   "outputs": [
    {
     "data": {
      "image/png": "[encoded data removed]",
      "text/plain": [
       "<Figure size 640x480 with 1 Axes>"
      ]
     },
     "metadata": {},
     "output_type": "display_data"
    }
   ],
   "source": [
    "plt.hist(simulated_params, bins=100, edgecolor='black')\n",
    "plt.show()"
   ]
  },
  {
   "cell_type": "code",
   "execution_count": null,
   "id": "3ad787be-771c-408a-bf0b-06b3c6de85ec",
   "metadata": {},
   "outputs": [],
   "source": []
  }
 ],
 "metadata": {
  "kernelspec": {
   "display_name": "Python 3 (ipykernel)",
   "language": "python",
   "name": "python3"
  },
  "language_info": {
   "codemirror_mode": {
    "name": "ipython",
    "version": 3
   },
   "file_extension": ".py",
   "mimetype": "text/x-python",
   "name": "python",
   "nbconvert_exporter": "python",
   "pygments_lexer": "ipython3",
   "version": "3.12.9"
  }
 },
 "nbformat": 4,
 "nbformat_minor": 5
}
