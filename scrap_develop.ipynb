{
 "cells": [
  {
   "cell_type": "code",
   "execution_count": 10,
   "id": "cfcf96b1-d893-4225-9bc3-eafaf0ad91d5",
   "metadata": {},
   "outputs": [],
   "source": [
    "from time_series_generator import TimeSeriesGenerator\n",
    "import numpy as np"
   ]
  },
  {
   "cell_type": "code",
   "execution_count": 32,
   "id": "12ebcd25-6974-44b4-9685-7ca3c0ffe93d",
   "metadata": {},
   "outputs": [
    {
     "data": {
      "text/plain": [
       "tensor([[0.6450],\n",
       "        [0.1432],\n",
       "        [0.4826],\n",
       "        [0.3202],\n",
       "        [0.9719],\n",
       "        [1.0232],\n",
       "        [1.5786],\n",
       "        [2.0405],\n",
       "        [2.9104],\n",
       "        [3.8981]])"
      ]
     },
     "execution_count": 32,
     "metadata": {},
     "output_type": "execute_result"
    }
   ],
   "source": [
    "TimeSeriesGenerator.generate_ar_series(100, 10, 2)[99]"
   ]
  },
  {
   "cell_type": "code",
   "execution_count": null,
   "id": "d5237f31-7e81-4c24-ad8f-69d5cc2d264a",
   "metadata": {},
   "outputs": [],
   "source": []
  }
 ],
 "metadata": {
  "kernelspec": {
   "display_name": "Python 3 (ipykernel)",
   "language": "python",
   "name": "python3"
  },
  "language_info": {
   "codemirror_mode": {
    "name": "ipython",
    "version": 3
   },
   "file_extension": ".py",
   "mimetype": "text/x-python",
   "name": "python",
   "nbconvert_exporter": "python",
   "pygments_lexer": "ipython3",
   "version": "3.12.9"
  }
 },
 "nbformat": 4,
 "nbformat_minor": 5
}
