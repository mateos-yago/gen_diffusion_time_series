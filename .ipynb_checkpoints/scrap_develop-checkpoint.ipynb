{
 "cells": [
  {
   "cell_type": "code",
   "execution_count": 2,
   "id": "cfcf96b1-d893-4225-9bc3-eafaf0ad91d5",
   "metadata": {},
   "outputs": [],
   "source": [
    "from time_series_generator import TimeSeriesGenerator\n",
    "from time_series_ddpm_model import TimeSeriesDDPM\n",
    "import numpy as np\n",
    "from statsmodels.tsa import ar_model\n",
    "import matplotlib.pyplot as plt\n",
    "import torch\n",
    "import network_architectures\n",
    "import utils\n",
    "import scipy.stats as st\n",
    "from statsmodels.tsa.arima.model import ARIMA"
   ]
  },
  {
   "cell_type": "code",
   "execution_count": 3,
   "id": "04f80b0c-155a-41a0-bf16-0fbef207a5db",
   "metadata": {},
   "outputs": [],
   "source": [
    "from statsmodels.tsa.arima_process import arma_generate_sample"
   ]
  },
  {
   "cell_type": "code",
   "execution_count": 4,
   "id": "2e11c426-ad6e-4157-9271-302c3c0072b0",
   "metadata": {},
   "outputs": [
    {
     "data": {
      "text/plain": [
       "tensor([[[ 0.2083],\n",
       "         [ 0.0737],\n",
       "         [ 0.0334],\n",
       "         [-0.0309],\n",
       "         [ 0.0133]],\n",
       "\n",
       "        [[ 0.0272],\n",
       "         [-0.0357],\n",
       "         [ 0.2443],\n",
       "         [ 0.0815],\n",
       "         [-0.0632]]])"
      ]
     },
     "execution_count": 4,
     "metadata": {},
     "output_type": "execute_result"
    }
   ],
   "source": [
    "TimeSeriesGenerator.generate_arma_series(2, 5, 0.6, 0.6, 0.1, 5)"
   ]
  },
  {
   "cell_type": "markdown",
   "id": "f77b600b-4a82-4058-a632-2f1142badc59",
   "metadata": {},
   "source": [
    "# OJO, ALGO PASA CON LA NUEVA FUNCION, YA NO ESTIMO LOS VALORES CORRECTOS..."
   ]
  },
  {
   "cell_type": "code",
   "execution_count": 5,
   "id": "6e652f43-3dd3-43f7-b825-d701f1ad61e4",
   "metadata": {},
   "outputs": [],
   "source": [
    "#data=TimeSeriesGenerator.generate_ar_series(300, 100, 1, 0.6,0.1)\n",
    "data=TimeSeriesGenerator.generate_arma_series(2, 100, 0.6, 0.8, 0.1, 20)"
   ]
  },
  {
   "cell_type": "code",
   "execution_count": 6,
   "id": "ce52a6fe-25ba-4316-b762-ab5341f5d81d",
   "metadata": {},
   "outputs": [],
   "source": [
    "series=data.numpy()"
   ]
  },
  {
   "cell_type": "code",
   "execution_count": 7,
   "id": "4a5f7b66-a8f8-48f4-a1ce-aa067160666f",
   "metadata": {},
   "outputs": [
    {
     "data": {
      "text/plain": [
       "(2, 100, 1)"
      ]
     },
     "execution_count": 7,
     "metadata": {},
     "output_type": "execute_result"
    }
   ],
   "source": [
    "series.shape"
   ]
  },
  {
   "cell_type": "code",
   "execution_count": 8,
   "id": "124e26f2-839a-4995-ad12-0ef2f78196e3",
   "metadata": {},
   "outputs": [],
   "source": [
    "tsmodel=ARIMA(series[0], order=(1, 0, 1), trend=\"n\")"
   ]
  },
  {
   "cell_type": "code",
   "execution_count": 9,
   "id": "f016580a-eb66-4e81-a716-ad8dd926098a",
   "metadata": {},
   "outputs": [
    {
     "data": {
      "text/plain": [
       "array([-0.41113615], dtype=float32)"
      ]
     },
     "execution_count": 9,
     "metadata": {},
     "output_type": "execute_result"
    }
   ],
   "source": [
    "st.kurtosis(series[0])"
   ]
  },
  {
   "cell_type": "code",
   "execution_count": 10,
   "id": "a2332711-3bbf-4018-bfa1-7a1805ad45be",
   "metadata": {},
   "outputs": [],
   "source": [
    "result=tsmodel.fit()"
   ]
  },
  {
   "cell_type": "code",
   "execution_count": 11,
   "id": "de08dedc-0786-43f0-9ea1-45737c905921",
   "metadata": {
    "scrolled": true
   },
   "outputs": [
    {
     "data": {
      "text/html": [
       "<table class=\"simpletable\">\n",
       "<caption>SARIMAX Results</caption>\n",
       "<tr>\n",
       "  <th>Dep. Variable:</th>           <td>y</td>        <th>  No. Observations:  </th>    <td>100</td>  \n",
       "</tr>\n",
       "<tr>\n",
       "  <th>Model:</th>            <td>ARIMA(1, 0, 1)</td>  <th>  Log Likelihood     </th>  <td>55.754</td> \n",
       "</tr>\n",
       "<tr>\n",
       "  <th>Date:</th>            <td>Wed, 02 Apr 2025</td> <th>  AIC                </th> <td>-105.507</td>\n",
       "</tr>\n",
       "<tr>\n",
       "  <th>Time:</th>                <td>09:34:25</td>     <th>  BIC                </th>  <td>-97.692</td>\n",
       "</tr>\n",
       "<tr>\n",
       "  <th>Sample:</th>                  <td>0</td>        <th>  HQIC               </th> <td>-102.344</td>\n",
       "</tr>\n",
       "<tr>\n",
       "  <th></th>                      <td> - 100</td>      <th>                     </th>     <td> </td>   \n",
       "</tr>\n",
       "<tr>\n",
       "  <th>Covariance Type:</th>        <td>opg</td>       <th>                     </th>     <td> </td>   \n",
       "</tr>\n",
       "</table>\n",
       "<table class=\"simpletable\">\n",
       "<tr>\n",
       "     <td></td>       <th>coef</th>     <th>std err</th>      <th>z</th>      <th>P>|z|</th>  <th>[0.025</th>    <th>0.975]</th>  \n",
       "</tr>\n",
       "<tr>\n",
       "  <th>ar.L1</th>  <td>    0.8437</td> <td>    0.079</td> <td>   10.719</td> <td> 0.000</td> <td>    0.689</td> <td>    0.998</td>\n",
       "</tr>\n",
       "<tr>\n",
       "  <th>ma.L1</th>  <td>   -0.9999</td> <td>   24.508</td> <td>   -0.041</td> <td> 0.967</td> <td>  -49.034</td> <td>   47.035</td>\n",
       "</tr>\n",
       "<tr>\n",
       "  <th>sigma2</th> <td>    0.0188</td> <td>    0.459</td> <td>    0.041</td> <td> 0.967</td> <td>   -0.881</td> <td>    0.919</td>\n",
       "</tr>\n",
       "</table>\n",
       "<table class=\"simpletable\">\n",
       "<tr>\n",
       "  <th>Ljung-Box (L1) (Q):</th>     <td>0.08</td> <th>  Jarque-Bera (JB):  </th> <td>0.92</td> \n",
       "</tr>\n",
       "<tr>\n",
       "  <th>Prob(Q):</th>                <td>0.78</td> <th>  Prob(JB):          </th> <td>0.63</td> \n",
       "</tr>\n",
       "<tr>\n",
       "  <th>Heteroskedasticity (H):</th> <td>1.00</td> <th>  Skew:              </th> <td>-0.05</td>\n",
       "</tr>\n",
       "<tr>\n",
       "  <th>Prob(H) (two-sided):</th>    <td>1.00</td> <th>  Kurtosis:          </th> <td>2.54</td> \n",
       "</tr>\n",
       "</table><br/><br/>Warnings:<br/>[1] Covariance matrix calculated using the outer product of gradients (complex-step)."
      ],
      "text/latex": [
       "\\begin{center}\n",
       "\\begin{tabular}{lclc}\n",
       "\\toprule\n",
       "\\textbf{Dep. Variable:}          &        y         & \\textbf{  No. Observations:  } &    100      \\\\\n",
       "\\textbf{Model:}                  &  ARIMA(1, 0, 1)  & \\textbf{  Log Likelihood     } &   55.754    \\\\\n",
       "\\textbf{Date:}                   & Wed, 02 Apr 2025 & \\textbf{  AIC                } &  -105.507   \\\\\n",
       "\\textbf{Time:}                   &     09:34:25     & \\textbf{  BIC                } &  -97.692    \\\\\n",
       "\\textbf{Sample:}                 &        0         & \\textbf{  HQIC               } &  -102.344   \\\\\n",
       "\\textbf{}                        &       - 100      & \\textbf{                     } &             \\\\\n",
       "\\textbf{Covariance Type:}        &       opg        & \\textbf{                     } &             \\\\\n",
       "\\bottomrule\n",
       "\\end{tabular}\n",
       "\\begin{tabular}{lcccccc}\n",
       "                & \\textbf{coef} & \\textbf{std err} & \\textbf{z} & \\textbf{P$> |$z$|$} & \\textbf{[0.025} & \\textbf{0.975]}  \\\\\n",
       "\\midrule\n",
       "\\textbf{ar.L1}  &       0.8437  &        0.079     &    10.719  &         0.000        &        0.689    &        0.998     \\\\\n",
       "\\textbf{ma.L1}  &      -0.9999  &       24.508     &    -0.041  &         0.967        &      -49.034    &       47.035     \\\\\n",
       "\\textbf{sigma2} &       0.0188  &        0.459     &     0.041  &         0.967        &       -0.881    &        0.919     \\\\\n",
       "\\bottomrule\n",
       "\\end{tabular}\n",
       "\\begin{tabular}{lclc}\n",
       "\\textbf{Ljung-Box (L1) (Q):}     & 0.08 & \\textbf{  Jarque-Bera (JB):  } &  0.92  \\\\\n",
       "\\textbf{Prob(Q):}                & 0.78 & \\textbf{  Prob(JB):          } &  0.63  \\\\\n",
       "\\textbf{Heteroskedasticity (H):} & 1.00 & \\textbf{  Skew:              } & -0.05  \\\\\n",
       "\\textbf{Prob(H) (two-sided):}    & 1.00 & \\textbf{  Kurtosis:          } &  2.54  \\\\\n",
       "\\bottomrule\n",
       "\\end{tabular}\n",
       "%\\caption{SARIMAX Results}\n",
       "\\end{center}\n",
       "\n",
       "Warnings: \\newline\n",
       " [1] Covariance matrix calculated using the outer product of gradients (complex-step)."
      ],
      "text/plain": [
       "<class 'statsmodels.iolib.summary.Summary'>\n",
       "\"\"\"\n",
       "                               SARIMAX Results                                \n",
       "==============================================================================\n",
       "Dep. Variable:                      y   No. Observations:                  100\n",
       "Model:                 ARIMA(1, 0, 1)   Log Likelihood                  55.754\n",
       "Date:                Wed, 02 Apr 2025   AIC                           -105.507\n",
       "Time:                        09:34:25   BIC                            -97.692\n",
       "Sample:                             0   HQIC                          -102.344\n",
       "                                - 100                                         \n",
       "Covariance Type:                  opg                                         \n",
       "==============================================================================\n",
       "                 coef    std err          z      P>|z|      [0.025      0.975]\n",
       "------------------------------------------------------------------------------\n",
       "ar.L1          0.8437      0.079     10.719      0.000       0.689       0.998\n",
       "ma.L1         -0.9999     24.508     -0.041      0.967     -49.034      47.035\n",
       "sigma2         0.0188      0.459      0.041      0.967      -0.881       0.919\n",
       "===================================================================================\n",
       "Ljung-Box (L1) (Q):                   0.08   Jarque-Bera (JB):                 0.92\n",
       "Prob(Q):                              0.78   Prob(JB):                         0.63\n",
       "Heteroskedasticity (H):               1.00   Skew:                            -0.05\n",
       "Prob(H) (two-sided):                  1.00   Kurtosis:                         2.54\n",
       "===================================================================================\n",
       "\n",
       "Warnings:\n",
       "[1] Covariance matrix calculated using the outer product of gradients (complex-step).\n",
       "\"\"\""
      ]
     },
     "execution_count": 11,
     "metadata": {},
     "output_type": "execute_result"
    }
   ],
   "source": [
    "result.summary()"
   ]
  },
  {
   "cell_type": "code",
   "execution_count": 1,
   "id": "99bb4977-6824-43f1-8b24-acb6c523c346",
   "metadata": {},
   "outputs": [
    {
     "ename": "NameError",
     "evalue": "name 'result' is not defined",
     "output_type": "error",
     "traceback": [
      "\u001b[1;31m---------------------------------------------------------------------------\u001b[0m",
      "\u001b[1;31mNameError\u001b[0m                                 Traceback (most recent call last)",
      "Cell \u001b[1;32mIn[1], line 1\u001b[0m\n\u001b[1;32m----> 1\u001b[0m \u001b[38;5;28mfloat\u001b[39m(result\u001b[38;5;241m.\u001b[39msummary()\u001b[38;5;241m.\u001b[39mtables[\u001b[38;5;241m2\u001b[39m]\u001b[38;5;241m.\u001b[39mdata[\u001b[38;5;241m-\u001b[39m\u001b[38;5;241m1\u001b[39m][\u001b[38;5;241m-\u001b[39m\u001b[38;5;241m1\u001b[39m])\n",
      "\u001b[1;31mNameError\u001b[0m: name 'result' is not defined"
     ]
    }
   ],
   "source": [
    "float(result.summary().tables[2].data[-1][-1])"
   ]
  },
  {
   "cell_type": "code",
   "execution_count": 17,
   "id": "c2547e88-a067-4d2c-a21d-5e6cf4531fd5",
   "metadata": {
    "scrolled": true
   },
   "outputs": [],
   "source": [
    "params = utils.ts_kurtosis_estimation(series)"
   ]
  },
  {
   "cell_type": "code",
   "execution_count": 18,
   "id": "112ab469-8f33-4a03-bd41-5565367a27f0",
   "metadata": {},
   "outputs": [
    {
     "data": {
      "image/png": "[encoded data removed]",
      "text/plain": [
       "<Figure size 640x480 with 1 Axes>"
      ]
     },
     "metadata": {},
     "output_type": "display_data"
    }
   ],
   "source": [
    "plt.hist(params, bins=50, edgecolor='black')\n",
    "plt.show()"
   ]
  },
  {
   "cell_type": "code",
   "execution_count": 12,
   "id": "b43c6752-0588-4896-87d8-5008182ec4d3",
   "metadata": {},
   "outputs": [],
   "source": [
    "from network_architectures import HybridCNNLSTMNet\n",
    "custom_net = HybridCNNLSTMNet(input_dim=1, conv_channels=16, lstm_hidden_dim=32, num_lstm_layers=2)\n",
    "# Create the DDPM model using the custom network.\n",
    "ddpm_model = TimeSeriesDDPM(net=custom_net, T=1000)"
   ]
  },
  {
   "cell_type": "code",
   "execution_count": 13,
   "id": "285e4802-f7d1-41df-9716-d8dfbab21d88",
   "metadata": {},
   "outputs": [],
   "source": [
    "#from transformer_architecture import TransformerNet"
   ]
  },
  {
   "cell_type": "code",
   "execution_count": 15,
   "id": "eb6fa1b6-3ece-4655-8b7c-caf8d572b98c",
   "metadata": {},
   "outputs": [],
   "source": [
    "#custom_transformer = TransformerNet(\n",
    "#    input_dim=1,\n",
    "#    embed_dim=16,\n",
    "#    num_layers=2,\n",
    "#    nhead=4,\n",
    "#    dim_feedforward=64,\n",
    "#    dropout=0.1,\n",
    "#    use_positional_encoding=True\n",
    "#)\n",
    "\n",
    "## Instantiate the DDPM model with the transformer network.\n",
    "#ddpm_model = TimeSeriesDDPM(net=custom_transformer, T=1000)\n"
   ]
  },
  {
   "cell_type": "code",
   "execution_count": 16,
   "id": "7d94c85f-75ab-4f4d-a3ee-ccab01a3463e",
   "metadata": {
    "scrolled": true
   },
   "outputs": [
    {
     "name": "stdout",
     "output_type": "stream",
     "text": [
      "Epoch 1, Loss: 1.0254026194413504\n",
      "Epoch 2, Loss: 1.0067454198996226\n",
      "Epoch 3, Loss: 1.0111372311909994\n",
      "Epoch 4, Loss: 1.004495491584142\n",
      "Epoch 5, Loss: 1.0010106941064199\n",
      "Epoch 6, Loss: 0.9939361194769541\n",
      "Epoch 7, Loss: 1.003682400782903\n",
      "Epoch 8, Loss: 1.0027178049087524\n",
      "Epoch 9, Loss: 0.9884401579697927\n",
      "Epoch 10, Loss: 0.9875036398569743\n",
      "Epoch 11, Loss: 0.9946710228919983\n",
      "Epoch 12, Loss: 0.9994097729523976\n",
      "Epoch 13, Loss: 0.9852431952953339\n",
      "Epoch 14, Loss: 1.0088736911614735\n",
      "Epoch 15, Loss: 0.9957156221071879\n",
      "Epoch 16, Loss: 0.9915630638599395\n",
      "Epoch 17, Loss: 0.9945111552874247\n",
      "Epoch 18, Loss: 0.993131027619044\n",
      "Epoch 19, Loss: 0.9961026986440022\n",
      "Epoch 20, Loss: 1.0135318756103515\n",
      "Epoch 21, Loss: 1.0015040814876557\n",
      "Epoch 22, Loss: 0.9953844487667084\n",
      "Epoch 23, Loss: 1.0027511795361836\n",
      "Epoch 24, Loss: 1.0014430503050487\n",
      "Epoch 25, Loss: 1.0057596564292908\n",
      "Epoch 26, Loss: 1.0051508267720541\n",
      "Epoch 27, Loss: 0.993493378162384\n",
      "Epoch 28, Loss: 0.993609094619751\n",
      "Epoch 29, Loss: 0.9844995518525441\n",
      "Epoch 30, Loss: 0.9629044930140177\n",
      "Epoch 31, Loss: 0.9335887591044109\n",
      "Epoch 32, Loss: 0.8269921183586121\n",
      "Epoch 33, Loss: 0.6265274107456207\n",
      "Epoch 34, Loss: 0.46739651759465534\n",
      "Epoch 35, Loss: 0.37142990132172904\n",
      "Epoch 36, Loss: 0.31209346403678256\n",
      "Epoch 37, Loss: 0.3049319138129552\n",
      "Epoch 38, Loss: 0.26734180947144826\n",
      "Epoch 39, Loss: 0.2716009631752968\n",
      "Epoch 40, Loss: 0.2544130067030589\n"
     ]
    }
   ],
   "source": [
    "ddpm_model.train_model(data, num_epochs=40, plot=False)"
   ]
  },
  {
   "cell_type": "code",
   "execution_count": 17,
   "id": "72b754e3-f541-4685-8549-bdbb3e27c87b",
   "metadata": {
    "scrolled": true
   },
   "outputs": [],
   "source": [
    "device = torch.device(\"cuda\" if torch.cuda.is_available() else \"cpu\")\n",
    "generated_series=ddpm_model.sample(seq_length=100, device=device, num_samples=300)"
   ]
  },
  {
   "cell_type": "code",
   "execution_count": 18,
   "id": "3ad7dec9-0f4a-485f-ab52-058b3a74fd33",
   "metadata": {},
   "outputs": [],
   "source": [
    "simulated_params=utils.ts_kurtosis_estimation(generated_series)"
   ]
  },
  {
   "cell_type": "code",
   "execution_count": 19,
   "id": "da7277d4-4ecc-4626-b023-6f8ffdf833e0",
   "metadata": {},
   "outputs": [
    {
     "data": {
      "image/png": "[encoded data removed]",
      "text/plain": [
       "<Figure size 640x480 with 1 Axes>"
      ]
     },
     "metadata": {},
     "output_type": "display_data"
    }
   ],
   "source": [
    "plt.hist(simulated_params, bins=50, edgecolor='black')\n",
    "plt.show()"
   ]
  },
  {
   "cell_type": "code",
   "execution_count": null,
   "id": "3ad787be-771c-408a-bf0b-06b3c6de85ec",
   "metadata": {},
   "outputs": [],
   "source": []
  }
 ],
 "metadata": {
  "kernelspec": {
   "display_name": "Python 3 (ipykernel)",
   "language": "python",
   "name": "python3"
  },
  "language_info": {
   "codemirror_mode": {
    "name": "ipython",
    "version": 3
   },
   "file_extension": ".py",
   "mimetype": "text/x-python",
   "name": "python",
   "nbconvert_exporter": "python",
   "pygments_lexer": "ipython3",
   "version": "3.12.9"
  }
 },
 "nbformat": 4,
 "nbformat_minor": 5
}
